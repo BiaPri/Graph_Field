{
 "cells": [
  {
   "cell_type": "code",
   "execution_count": 1,
   "id": "7b750bea",
   "metadata": {},
   "outputs": [],
   "source": [
    "import pandas as pd\n",
    "\n",
    "from py2neo import Graph"
   ]
  },
  {
   "cell_type": "code",
   "execution_count": 2,
   "id": "75b6cc00",
   "metadata": {},
   "outputs": [],
   "source": [
    "graph = Graph('bolt://100.27.6.130:7687', auth=('neo4j', 'blanket-cam-reinforcement'))"
   ]
  },
  {
   "cell_type": "code",
   "execution_count": 3,
   "id": "a12f8ba3",
   "metadata": {},
   "outputs": [
    {
     "data": {
      "text/html": [
       "(No data)"
      ],
      "text/plain": [
       "(No data)"
      ]
     },
     "execution_count": 3,
     "metadata": {},
     "output_type": "execute_result"
    }
   ],
   "source": [
    "query = \"\"\"\n",
    "MATCH (n)\n",
    "DETACH DELETE n;\n",
    "\"\"\"\n",
    "\n",
    "graph.run(query)"
   ]
  },
  {
   "cell_type": "code",
   "execution_count": 4,
   "id": "b2e98767",
   "metadata": {},
   "outputs": [
    {
     "data": {
      "text/html": [
       "<table><tr><th>batches</th><th>total</th><th>timeTaken</th><th>committedOperations</th><th>failedOperations</th><th>failedBatches</th><th>retries</th><th>errorMessages</th><th>batch</th><th>operations</th><th>wasTerminated</th><th>failedParams</th><th>updateStatistics</th></tr><tr><td style=\"text-align:right\">7</td><td style=\"text-align:right\">1000</td><td style=\"text-align:right\">1</td><td style=\"text-align:right\">1000</td><td style=\"text-align:right\">0</td><td style=\"text-align:right\">0</td><td style=\"text-align:right\">0</td><td style=\"text-align:left\">{}</td><td style=\"text-align:left\">{total: 7, committed: 7, failed: 0, errors: {}}</td><td style=\"text-align:left\">{total: 1000, committed: 1000, failed: 0, errors: {}}</td><td style=\"text-align:left\">false</td><td style=\"text-align:left\">{}</td><td style=\"text-align:left\">{nodesDeleted: 0, labelsAdded: 2008, relationshipsCreated: 2000, nodesCreated: 2008, propertiesSet: 7008, relationshipsDeleted: 0, labelsRemoved: 0}</td></tr></table>"
      ],
      "text/plain": [
       " batches | total | timeTaken | committedOperations | failedOperations | failedBatches | retries | errorMessages | batch                                           | operations                                            | wasTerminated | failedParams | updateStatistics                                                                                                                                     \n",
       "---------|-------|-----------|---------------------|------------------|---------------|---------|---------------|-------------------------------------------------|-------------------------------------------------------|---------------|--------------|------------------------------------------------------------------------------------------------------------------------------------------------------\n",
       "       7 |  1000 |         1 |                1000 |                0 |             0 |       0 | {}            | {total: 7, committed: 7, failed: 0, errors: {}} | {total: 1000, committed: 1000, failed: 0, errors: {}} | false         | {}           | {nodesDeleted: 0, labelsAdded: 2008, relationshipsCreated: 2000, nodesCreated: 2008, propertiesSet: 7008, relationshipsDeleted: 0, labelsRemoved: 0} "
      ]
     },
     "execution_count": 4,
     "metadata": {},
     "output_type": "execute_result"
    }
   ],
   "source": [
    "query = \"\"\"\n",
    "CALL apoc.periodic.iterate(\n",
    "\"CALL apoc.load.csv('https://raw.githubusercontent.com/BiaPri/Graph_Field/master/data_e_commerce/customers.csv')\n",
    " YIELD map AS row RETURN row\",\n",
    "\"MERGE (c:Customer {id: toInteger(row.customer_id), name: row.customer_name, gender: row.gender, age: toInteger(row.age)})\n",
    " MERGE (ct:City {city_name: row.city, zip_code: toInteger(row.zip_code), address: row.home_address})\n",
    " MERGE (s:State {name: row.state})\n",
    " MERGE (c)-[:LIVING_CITY]->(ct)\n",
    " MERGE (c)-[:LIVING_STATE]->(s)\",\n",
    " {batchSize: 150}\n",
    ")\n",
    "\"\"\"\n",
    "\n",
    "graph.run(query)"
   ]
  },
  {
   "cell_type": "code",
   "execution_count": 5,
   "id": "d5b7f00c",
   "metadata": {},
   "outputs": [
    {
     "data": {
      "text/html": [
       "<table><tr><th>batches</th><th>total</th><th>timeTaken</th><th>committedOperations</th><th>failedOperations</th><th>failedBatches</th><th>retries</th><th>errorMessages</th><th>batch</th><th>operations</th><th>wasTerminated</th><th>failedParams</th><th>updateStatistics</th></tr><tr><td style=\"text-align:right\">7</td><td style=\"text-align:right\">1260</td><td style=\"text-align:right\">1</td><td style=\"text-align:right\">1260</td><td style=\"text-align:right\">0</td><td style=\"text-align:right\">0</td><td style=\"text-align:right\">0</td><td style=\"text-align:left\">{}</td><td style=\"text-align:left\">{total: 7, committed: 7, failed: 0, errors: {}}</td><td style=\"text-align:left\">{total: 1260, committed: 1260, failed: 0, errors: {}}</td><td style=\"text-align:left\">false</td><td style=\"text-align:left\">{}</td><td style=\"text-align:left\">{nodesDeleted: 0, labelsAdded: 1260, relationshipsCreated: 0, nodesCreated: 1260, propertiesSet: 8820, relationshipsDeleted: 0, labelsRemoved: 0}</td></tr></table>"
      ],
      "text/plain": [
       " batches | total | timeTaken | committedOperations | failedOperations | failedBatches | retries | errorMessages | batch                                           | operations                                            | wasTerminated | failedParams | updateStatistics                                                                                                                                  \n",
       "---------|-------|-----------|---------------------|------------------|---------------|---------|---------------|-------------------------------------------------|-------------------------------------------------------|---------------|--------------|---------------------------------------------------------------------------------------------------------------------------------------------------\n",
       "       7 |  1260 |         1 |                1260 |                0 |             0 |       0 | {}            | {total: 7, committed: 7, failed: 0, errors: {}} | {total: 1260, committed: 1260, failed: 0, errors: {}} | false         | {}           | {nodesDeleted: 0, labelsAdded: 1260, relationshipsCreated: 0, nodesCreated: 1260, propertiesSet: 8820, relationshipsDeleted: 0, labelsRemoved: 0} "
      ]
     },
     "execution_count": 5,
     "metadata": {},
     "output_type": "execute_result"
    }
   ],
   "source": [
    "query = \"\"\"\n",
    "CALL apoc.periodic.iterate(\n",
    "\"CALL apoc.load.csv('https://raw.githubusercontent.com/BiaPri/Graph_Field/master/data_e_commerce/products.csv')\n",
    " YIELD map AS row RETURN row\",\n",
    "\"MERGE (:Product {id: toInteger(row.product_ID), type: row.product_type, name: row.product_name, \n",
    "                 size: row.size, color: row.colour, price: toInteger(row.price), stock: toInteger(row.quantity)})\",\n",
    " {batchSize: 200}\n",
    ")\n",
    "\"\"\"\n",
    "\n",
    "graph.run(query)"
   ]
  },
  {
   "cell_type": "code",
   "execution_count": 6,
   "id": "fe82093d",
   "metadata": {},
   "outputs": [
    {
     "data": {
      "text/html": [
       "<table><tr><th>batches</th><th>total</th><th>timeTaken</th><th>committedOperations</th><th>failedOperations</th><th>failedBatches</th><th>retries</th><th>errorMessages</th><th>batch</th><th>operations</th><th>wasTerminated</th><th>failedParams</th><th>updateStatistics</th></tr><tr><td style=\"text-align:right\">10</td><td style=\"text-align:right\">5000</td><td style=\"text-align:right\">13</td><td style=\"text-align:right\">5000</td><td style=\"text-align:right\">0</td><td style=\"text-align:right\">0</td><td style=\"text-align:right\">0</td><td style=\"text-align:left\">{}</td><td style=\"text-align:left\">{total: 10, committed: 10, failed: 0, errors: {}}</td><td style=\"text-align:left\">{total: 5000, committed: 5000, failed: 0, errors: {}}</td><td style=\"text-align:left\">false</td><td style=\"text-align:left\">{}</td><td style=\"text-align:left\">{nodesDeleted: 0, labelsAdded: 0, relationshipsCreated: 4999, nodesCreated: 0, propertiesSet: 14997, relationshipsDeleted: 0, labelsRemoved: 0}</td></tr></table>"
      ],
      "text/plain": [
       " batches | total | timeTaken | committedOperations | failedOperations | failedBatches | retries | errorMessages | batch                                             | operations                                            | wasTerminated | failedParams | updateStatistics                                                                                                                                \n",
       "---------|-------|-----------|---------------------|------------------|---------------|---------|---------------|---------------------------------------------------|-------------------------------------------------------|---------------|--------------|-------------------------------------------------------------------------------------------------------------------------------------------------\n",
       "      10 |  5000 |        13 |                5000 |                0 |             0 |       0 | {}            | {total: 10, committed: 10, failed: 0, errors: {}} | {total: 5000, committed: 5000, failed: 0, errors: {}} | false         | {}           | {nodesDeleted: 0, labelsAdded: 0, relationshipsCreated: 4999, nodesCreated: 0, propertiesSet: 14997, relationshipsDeleted: 0, labelsRemoved: 0} "
      ]
     },
     "execution_count": 6,
     "metadata": {},
     "output_type": "execute_result"
    }
   ],
   "source": [
    "query = \"\"\"\n",
    "CALL apoc.periodic.iterate(\n",
    "\"CALL apoc.load.csv('https://raw.githubusercontent.com/BiaPri/Graph_Field/master/data_e_commerce/orders_sales.csv')\n",
    " YIELD map AS row RETURN row\",\n",
    "\"MATCH (c:Customer {id: toInteger(row.customer_id)}) \n",
    " MATCH (p:Product {id: toInteger(row.product_id)})\n",
    " MERGE (c)-[:ORDERS {order_date: date(row.order_date), delivery_date: date(row.delivery_date), quantity: toInteger(row.quantity)}]->(p)\",\n",
    " {batchSize: 500}\n",
    ")\n",
    "\"\"\"\n",
    "\n",
    "graph.run(query)"
   ]
  },
  {
   "cell_type": "code",
   "execution_count": 7,
   "id": "8c14209f",
   "metadata": {},
   "outputs": [
    {
     "data": {
      "text/html": [
       "<table><tr><th>nodeProjection</th><th>relationshipProjection</th><th>graphName</th><th>nodeCount</th><th>relationshipCount</th><th>createMillis</th></tr><tr><td style=\"text-align:left\">{Customer: {properties: {}, label: &#039;Customer&#039;}, Product: {properties: {}, label: &#039;Product&#039;}}</td><td style=\"text-align:left\">{ORDERS: {orientation: &#039;UNDIRECTED&#039;, aggregation: &#039;DEFAULT&#039;, type: &#039;ORDERS&#039;, properties: {quantity: {property: &#039;quantity&#039;, aggregation: &#039;DEFAULT&#039;, defaultValue: null}}}}</td><td style=\"text-align:left\">E-Commerce</td><td style=\"text-align:right\">2260</td><td style=\"text-align:right\">9998</td><td style=\"text-align:right\">178</td></tr></table>"
      ],
      "text/plain": [
       " nodeProjection                                                                               | relationshipProjection                                                                                                                                                    | graphName  | nodeCount | relationshipCount | createMillis \n",
       "----------------------------------------------------------------------------------------------|---------------------------------------------------------------------------------------------------------------------------------------------------------------------------|------------|-----------|-------------------|--------------\n",
       " {Customer: {properties: {}, label: 'Customer'}, Product: {properties: {}, label: 'Product'}} | {ORDERS: {orientation: 'UNDIRECTED', aggregation: 'DEFAULT', type: 'ORDERS', properties: {quantity: {property: 'quantity', aggregation: 'DEFAULT', defaultValue: null}}}} | E-Commerce |      2260 |              9998 |          178 "
      ]
     },
     "execution_count": 7,
     "metadata": {},
     "output_type": "execute_result"
    }
   ],
   "source": [
    "query = \"\"\"\n",
    "CALL gds.graph.create('E-Commerce', ['Customer', 'Product'],\n",
    "\t\t\t\t\t  {\n",
    "                        ORDERS: {\n",
    "                                  type: 'ORDERS',\n",
    "                                  orientation: 'UNDIRECTED',\n",
    "                                  properties: 'quantity'\n",
    "                                 }\n",
    "                           }\n",
    "                       );\n",
    "\"\"\"\n",
    "\n",
    "graph.run(query)"
   ]
  },
  {
   "cell_type": "code",
   "execution_count": null,
   "id": "146870bd",
   "metadata": {},
   "outputs": [],
   "source": [
    "query = \"\"\"\n",
    "CALL gds.beta.node2vec.write('E-Commerce',\n",
    "                               embeddingSize: 10,\n",
    "                               iterations: 10,\n",
    "                               walkLength: 10,\n",
    "                               writeProperty: \"embeddingNode2vec\"\n",
    "                       );\n",
    "\"\"\"\n",
    "\n",
    "graph.run(query)"
   ]
  }
 ],
 "metadata": {
  "kernelspec": {
   "display_name": "Python 3 (ipykernel)",
   "language": "python",
   "name": "python3"
  },
  "language_info": {
   "codemirror_mode": {
    "name": "ipython",
    "version": 3
   },
   "file_extension": ".py",
   "mimetype": "text/x-python",
   "name": "python",
   "nbconvert_exporter": "python",
   "pygments_lexer": "ipython3",
   "version": "3.7.11"
  }
 },
 "nbformat": 4,
 "nbformat_minor": 5
}
